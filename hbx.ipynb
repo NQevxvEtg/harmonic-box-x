{
 "cells": [
  {
   "cell_type": "code",
   "execution_count": 1,
   "id": "c11c77f9-c7d1-4cd8-b3f3-28414e8cf781",
   "metadata": {},
   "outputs": [],
   "source": [
    "solfeggio = [\n",
    "    174,\n",
    "    285,\n",
    "    396,\n",
    "    417,\n",
    "    528,\n",
    "    639,\n",
    "    741,\n",
    "    852,\n",
    "    963\n",
    "]"
   ]
  },
  {
   "cell_type": "code",
   "execution_count": 2,
   "id": "4ad0b9ea-8612-44f0-803b-fdaac638f6d5",
   "metadata": {},
   "outputs": [
    {
     "name": "stdout",
     "output_type": "stream",
     "text": [
      "[87.0, 142.5, 198.0, 208.5, 264.0, 319.5, 370.5, 426.0, 481.5]\n",
      "[43.5, 71.25, 99.0, 104.25, 132.0, 159.75, 185.25, 213.0, 240.75]\n",
      "[21.75, 35.625, 49.5, 52.125, 66.0, 79.875, 92.625, 106.5, 120.375]\n",
      "[10.875, 17.8125, 24.75, 26.0625, 33.0, 39.9375, 46.3125, 53.25, 60.1875]\n",
      "[5.4375, 8.90625, 12.375, 13.03125, 16.5, 19.96875, 23.15625, 26.625, 30.09375]\n"
     ]
    }
   ],
   "source": [
    "_1_2 = list(map(lambda x: x/2, solfeggio))\n",
    "_1_4 = list(map(lambda x: x/4, solfeggio))\n",
    "_1_8 = list(map(lambda x: x/8, solfeggio))\n",
    "_1_16 = list(map(lambda x: x/16, solfeggio))\n",
    "_1_32 = list(map(lambda x: x/32, solfeggio))\n",
    "print(_1_2)\n",
    "print(_1_4)\n",
    "print(_1_8)\n",
    "print(_1_16)\n",
    "print(_1_32)"
   ]
  },
  {
   "cell_type": "code",
   "execution_count": 3,
   "id": "4ae3bb7a-6930-4802-9848-b227abbaff3d",
   "metadata": {},
   "outputs": [
    {
     "data": {
      "text/plain": [
       "' bliss\\n342.462856 Hz\\n335.17311 Hz\\n337.957545 Hz\\n330.66780 Hz\\n11.795056 Hz\\n7.289745 Hz\\n4.50531 Hz\\n2.784435 Hz\\n'"
      ]
     },
     "execution_count": 3,
     "metadata": {},
     "output_type": "execute_result"
    }
   ],
   "source": [
    "\"\"\" bliss\n",
    "342.462856 Hz\n",
    "335.17311 Hz\n",
    "337.957545 Hz\n",
    "330.66780 Hz\n",
    "11.795056 Hz\n",
    "7.289745 Hz\n",
    "4.50531 Hz\n",
    "2.784435 Hz\n",
    "\"\"\""
   ]
  },
  {
   "cell_type": "code",
   "execution_count": 4,
   "id": "ce53e29f-b07a-419f-8e40-0e10a1c32201",
   "metadata": {},
   "outputs": [
    {
     "name": "stdout",
     "output_type": "stream",
     "text": [
      "336.565328\n",
      "336.565328\n",
      "336.56532749999997\n",
      "336.56532749999997\n"
     ]
    }
   ],
   "source": [
    "print(342.462856 - (342.462856 - 330.66780) / 2)\n",
    "print(330.66780 + (342.462856 - 330.66780) / 2)\n",
    "print(337.957545 - (337.957545 - 335.17311) / 2)\n",
    "print(335.17311 + (337.957545 - 335.17311) / 2)"
   ]
  },
  {
   "cell_type": "code",
   "execution_count": 23,
   "id": "ffb023f9-8062-4470-bcdf-d4fb6fbc660f",
   "metadata": {},
   "outputs": [
    {
     "name": "stdout",
     "output_type": "stream",
     "text": [
      "857.897528 853.3922175\n",
      "850.6077825 846.102472\n"
     ]
    }
   ],
   "source": [
    "astral = (\n",
    "    # change this to the frequency you want to use, for example 528\n",
    "    # 336.565328 \n",
    "    # 342.4914324\n",
    "    # 432.081216\n",
    "    \n",
    "    # 174\n",
    "    # 285\n",
    "    # 396\n",
    "    # 417\n",
    "    # 528\n",
    "    # 639\n",
    "    # 741\n",
    "    852\n",
    "    # 963\n",
    "    \n",
    "         )\n",
    "\n",
    "a = 11.795056 / 2\n",
    "front_left = astral + a\n",
    "back_right = astral - a\n",
    "\n",
    "a = 2.784435 / 2\n",
    "front_right = astral + a\n",
    "back_left = astral - a\n",
    "\n",
    "print(front_left,front_right)\n",
    "print(back_left,back_right)"
   ]
  },
  {
   "cell_type": "code",
   "execution_count": 24,
   "id": "74601a57-9277-4253-8f49-ebcf797a9f7d",
   "metadata": {},
   "outputs": [
    {
     "name": "stdout",
     "output_type": "stream",
     "text": [
      "4.5053104999999505\n",
      "4.5053104999999505\n",
      "7.289745499999981\n",
      "7.289745499999981\n",
      "11.795055999999931\n",
      "2.7844350000000304\n"
     ]
    }
   ],
   "source": [
    "import numpy as np\n",
    "\n",
    "x = {\n",
    "    'front_left':front_left,'front_right':front_right,\n",
    "    'back_left':back_left,'back_right':back_right\n",
    "}\n",
    "\n",
    "print(x['front_left']-x['front_right'])\n",
    "print(x['back_left']-x['back_right'])\n",
    "\n",
    "print(x['front_left']-x['back_left'])\n",
    "print(x['front_right']-x['back_right'])\n",
    "\n",
    "print(x['front_left']-x['back_right'])\n",
    "print(x['front_right']-x['back_left'])"
   ]
  },
  {
   "cell_type": "markdown",
   "id": "41f0671f-2189-462b-ba2a-ee8a61d16dbb",
   "metadata": {},
   "source": [
    "### Warning: \n",
    "\n",
    "You will need at least 10 GB of free memory for 1 hour at 96000 sample rate and 32 bit int"
   ]
  },
  {
   "cell_type": "code",
   "execution_count": 25,
   "id": "78c171e0-68f5-485b-95a9-89e1a698f25a",
   "metadata": {},
   "outputs": [
    {
     "name": "stdout",
     "output_type": "stream",
     "text": [
      "Binaural beat saved as 'binaural_beat.aiff'.\n"
     ]
    }
   ],
   "source": [
    "import numpy as np\n",
    "from pydub import AudioSegment\n",
    "import io\n",
    "import os\n",
    "\n",
    "home = os.path.expanduser('~')\n",
    "\n",
    "\n",
    "# Define the frequencies for the binaural beat\n",
    "# l_1 = 528  # Frequency for left ear\n",
    "# l_2 = 639  # Frequency for left ear\n",
    "# r_1 = 741 # Frequency for right ear\n",
    "# r_2 = 852  # Frequency for right ear\n",
    "\n",
    "l_1 = front_left  # Frequency for left ear\n",
    "r_1 = front_right  # Frequency for right ear\n",
    "l_2 = back_left  # Frequency for left ear\n",
    "r_2 = back_right  # Frequency for right ear\n",
    "\n",
    "\n",
    "# Duration and sample rate of the binaural beat\n",
    "duration = 60 * 60  # Duration in seconds\n",
    "sample_rate = 96000  # Sample rate in Hz \n",
    "chunk_size = 48000  # Size of each chunk (1 second)\n",
    "\n",
    "# Create an empty BytesIO object to store the audio data\n",
    "audio_data = io.BytesIO()\n",
    "\n",
    "# Process the audio in chunks\n",
    "for start in range(0, duration * sample_rate, chunk_size):\n",
    "    end = start + chunk_size\n",
    "    t = np.linspace(start / sample_rate, end / sample_rate, chunk_size, endpoint=False)\n",
    "\n",
    "    # Generate sinusoidal waveforms for each frequency\n",
    "    left_wave1 = np.sin(2 * np.pi * l_1 * t)\n",
    "    right_wave1 = np.sin(2 * np.pi * r_1 * t)\n",
    "    left_wave2 = np.sin(2 * np.pi * l_2 * t)\n",
    "    right_wave2 = np.sin(2 * np.pi * r_2 * t)\n",
    "\n",
    "    # Combine the left and right waveforms to create the binaural beat\n",
    "    binaural_left = left_wave1 + left_wave2\n",
    "    binaural_right = right_wave1 + right_wave2\n",
    "\n",
    "    # Normalize the amplitudes\n",
    "    binaural_left /= np.max(np.abs(binaural_left))\n",
    "    binaural_right /= np.max(np.abs(binaural_right))\n",
    "\n",
    "    # Combine left and right channels\n",
    "    stereo_audio = np.column_stack((binaural_left, binaural_right))\n",
    "\n",
    "    # Convert stereo audio to PyDub AudioSegment\n",
    "    max_amplitude = 2**31 - 1  # Maximum amplitude for 32-bit integer encoding\n",
    "    stereo_audio_scaled = (stereo_audio * max_amplitude).astype(np.int32)\n",
    "    stereo_audio_segment = AudioSegment(\n",
    "        stereo_audio_scaled.tobytes(),\n",
    "        frame_rate=sample_rate,\n",
    "        sample_width=4,  # 32-bit encoding\n",
    "        channels=2  # Stereo\n",
    "    )\n",
    "\n",
    "    # Append the chunk to the audio_data BytesIO object\n",
    "    audio_data.write(stereo_audio_segment.raw_data)\n",
    "\n",
    "# Create a new AudioSegment from the audio_data BytesIO object\n",
    "audio_segment = AudioSegment(\n",
    "    audio_data.getvalue(),\n",
    "    frame_rate=sample_rate,\n",
    "    sample_width=4,\n",
    "    channels=2\n",
    ")\n",
    "\n",
    "# Save the binaural beat as an AIFF file\n",
    "audio_segment.export(home + \"/Music/binaural_beat.aiff\", format=\"aiff\")\n",
    "print(\"Binaural beat saved as 'binaural_beat.aiff'.\")"
   ]
  },
  {
   "cell_type": "code",
   "execution_count": null,
   "id": "c35ece2a-5fd5-439e-9a34-65bba55a7fd3",
   "metadata": {},
   "outputs": [],
   "source": []
  }
 ],
 "metadata": {
  "kernelspec": {
   "display_name": "Python 3 (ipykernel)",
   "language": "python",
   "name": "python3"
  },
  "language_info": {
   "codemirror_mode": {
    "name": "ipython",
    "version": 3
   },
   "file_extension": ".py",
   "mimetype": "text/x-python",
   "name": "python",
   "nbconvert_exporter": "python",
   "pygments_lexer": "ipython3",
   "version": "3.10.11"
  }
 },
 "nbformat": 4,
 "nbformat_minor": 5
}
